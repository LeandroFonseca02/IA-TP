{
 "cells": [
  {
   "cell_type": "markdown",
   "source": [
    "# Trabalho de Inteligência Artificial - Predição de capacidade de pagamento de empréstimo\n",
    "## Realizado por Leandro Fonseca e Pedro Pinto\n",
    "\n",
    "### Fonte dos dados: [Link](https://www.kaggle.com/datasets/zaurbegiev/my-dataset?select=credit_train.csv)"
   ],
   "metadata": {
    "collapsed": false
   }
  },
  {
   "cell_type": "markdown",
   "source": [
    "Primeiramente foram carregados os dados de treino e os dados de teste"
   ],
   "metadata": {
    "collapsed": false
   }
  },
  {
   "cell_type": "code",
   "execution_count": 52,
   "outputs": [
    {
     "name": "stdout",
     "output_type": "stream",
     "text": [
      "<class 'pandas.core.frame.DataFrame'>\n",
      "RangeIndex: 100514 entries, 0 to 100513\n",
      "Data columns (total 19 columns):\n",
      " #   Column                        Non-Null Count   Dtype  \n",
      "---  ------                        --------------   -----  \n",
      " 0   Loan ID                       100000 non-null  object \n",
      " 1   Customer ID                   100000 non-null  object \n",
      " 2   Loan Status                   100000 non-null  object \n",
      " 3   Current Loan Amount           100000 non-null  float64\n",
      " 4   Term                          100000 non-null  object \n",
      " 5   Credit Score                  80846 non-null   float64\n",
      " 6   Annual Income                 80846 non-null   float64\n",
      " 7   Years in current job          95778 non-null   object \n",
      " 8   Home Ownership                100000 non-null  object \n",
      " 9   Purpose                       100000 non-null  object \n",
      " 10  Monthly Debt                  100000 non-null  float64\n",
      " 11  Years of Credit History       100000 non-null  float64\n",
      " 12  Months since last delinquent  46859 non-null   float64\n",
      " 13  Number of Open Accounts       100000 non-null  float64\n",
      " 14  Number of Credit Problems     100000 non-null  float64\n",
      " 15  Current Credit Balance        100000 non-null  float64\n",
      " 16  Maximum Open Credit           99998 non-null   float64\n",
      " 17  Bankruptcies                  99796 non-null   float64\n",
      " 18  Tax Liens                     99990 non-null   float64\n",
      "dtypes: float64(12), object(7)\n",
      "memory usage: 14.6+ MB\n"
     ]
    }
   ],
   "source": [
    "import pandas as pandas\n",
    "from sklearn.preprocessing import LabelEncoder, StandardScaler\n",
    "from sklearn.model_selection import train_test_split\n",
    "from sklearn.linear_model import LogisticRegression\n",
    "from sklearn.neighbors import KNeighborsClassifier\n",
    "from sklearn.tree import DecisionTreeClassifier\n",
    "from sklearn.ensemble import RandomForestClassifier\n",
    "from xgboost import XGBClassifier\n",
    "from sklearn.metrics import accuracy_score, precision_score, recall_score, f1_score\n",
    "from sklearn.inspection import  permutation_importance\n",
    "from sklearn import svm\n",
    "import matplotlib.pyplot as mplt\n",
    "import numpy as np\n",
    "\n",
    "train_data = pandas.read_csv(\"datasets/credit_train.csv\") #carregar csv de treino\n",
    "test_data = pandas.read_csv(\"datasets/credit_test.csv\") #carregar csv de teste\n",
    "train_data.info()"
   ],
   "metadata": {
    "collapsed": false,
    "ExecuteTime": {
     "start_time": "2023-06-17T05:49:49.501215Z",
     "end_time": "2023-06-17T05:49:49.730457Z"
    }
   }
  },
  {
   "cell_type": "markdown",
   "source": [
    "### Análise de dados\n",
    "\n",
    "Verificação de valores nulos nos dados"
   ],
   "metadata": {
    "collapsed": false
   }
  },
  {
   "cell_type": "code",
   "execution_count": 2,
   "outputs": [
    {
     "data": {
      "text/plain": "<Figure size 640x480 with 1 Axes>",
      "image/png": "[encoded data removed]"
     },
     "metadata": {},
     "output_type": "display_data"
    },
    {
     "data": {
      "text/plain": "Loan ID                           514\nCustomer ID                       514\nLoan Status                       514\nCurrent Loan Amount               514\nTerm                              514\nCredit Score                    19668\nAnnual Income                   19668\nYears in current job             4736\nHome Ownership                    514\nPurpose                           514\nMonthly Debt                      514\nYears of Credit History           514\nMonths since last delinquent    53655\nNumber of Open Accounts           514\nNumber of Credit Problems         514\nCurrent Credit Balance            514\nMaximum Open Credit               516\nBankruptcies                      718\nTax Liens                         524\ndtype: int64"
     },
     "execution_count": 2,
     "metadata": {},
     "output_type": "execute_result"
    }
   ],
   "source": [
    "mplt.bar([x for x in range(len(train_data.columns))], train_data.isnull().sum())\n",
    "x_labels = np.arange(0, 19, 1)\n",
    "mplt.xticks(ticks=x_labels)\n",
    "mplt.xlabel('Colunas')\n",
    "mplt.ylabel('Quantidade de valores null')\n",
    "\n",
    "# displaying the title\n",
    "mplt.title(\"Numero de valores\")\n",
    "mplt.show()\n",
    "train_data.isnull().sum()"
   ],
   "metadata": {
    "collapsed": false,
    "ExecuteTime": {
     "start_time": "2023-06-17T02:25:58.441753Z",
     "end_time": "2023-06-17T02:25:58.672752Z"
    }
   }
  },
  {
   "cell_type": "code",
   "execution_count": 3,
   "outputs": [
    {
     "data": {
      "text/plain": "Loan Status                  0\nCurrent Loan Amount          0\nTerm                         0\nCredit Score                 0\nAnnual Income                0\nYears in current job         0\nHome Ownership               0\nPurpose                      0\nMonthly Debt                 0\nYears of Credit History      0\nNumber of Open Accounts      0\nNumber of Credit Problems    0\nCurrent Credit Balance       0\nMaximum Open Credit          0\nBankruptcies                 0\nTax Liens                    0\ndtype: int64"
     },
     "execution_count": 3,
     "metadata": {},
     "output_type": "execute_result"
    }
   ],
   "source": [
    "train_data.drop(['Months since last delinquent', 'Loan ID', 'Customer ID'],axis=1, inplace=True)\n",
    "train_data.dropna(axis = 0, inplace = True) #retirar valores nulos\n",
    "train_data.drop_duplicates(inplace = True) #retirar valores duplicados\n",
    "train_data.isnull().sum()"
   ],
   "metadata": {
    "collapsed": false,
    "ExecuteTime": {
     "start_time": "2023-06-17T02:25:58.660754Z",
     "end_time": "2023-06-17T02:25:58.737754Z"
    }
   }
  },
  {
   "cell_type": "code",
   "execution_count": 4,
   "outputs": [],
   "source": [
    "import pandas as pandas\n",
    "from sklearn.preprocessing import LabelEncoder, StandardScaler\n",
    "from sklearn.model_selection import train_test_split\n",
    "from sklearn.linear_model import LogisticRegression\n",
    "from sklearn.neighbors import KNeighborsClassifier\n",
    "from sklearn.tree import DecisionTreeClassifier\n",
    "from sklearn.ensemble import RandomForestClassifier\n",
    "from xgboost import XGBClassifier\n",
    "from sklearn.metrics import accuracy_score, precision_score, recall_score, f1_score\n",
    "from sklearn.inspection import  permutation_importance\n",
    "import matplotlib.pyplot as mplt\n",
    "\n",
    "train_data = pandas.read_csv(\"datasets/credit_train.csv\") #carregar csv de treino\n",
    "test_data = pandas.read_csv(\"datasets/credit_test.csv\") #carregar csv de teste\n",
    "train_data.drop(['Months since last delinquent', 'Loan ID', 'Customer ID'],axis=1, inplace=True)\n",
    "train_data.dropna(axis = 0, inplace = True) #retirar valores nulos\n",
    "train_data.drop_duplicates(inplace = True) #retirar valores duplicados\n",
    "#substituir valores qualitativos por valores quantitativos\n",
    "label_enconder = LabelEncoder()\n",
    "train_data['Loan Status'] = label_enconder.fit_transform(train_data['Loan Status'])\n",
    "train_data['Term'] = label_enconder.fit_transform(train_data['Term'])\n",
    "train_data['Purpose'] = label_enconder.fit_transform(train_data['Purpose'])\n",
    "train_data['Home Ownership'] = label_enconder.fit_transform(train_data['Home Ownership'])\n",
    "train_data['Years in current job'] = label_enconder.fit_transform(train_data['Years in current job'])"
   ],
   "metadata": {
    "collapsed": false,
    "ExecuteTime": {
     "start_time": "2023-06-17T02:25:58.740753Z",
     "end_time": "2023-06-17T02:25:59.016896Z"
    }
   }
  },
  {
   "cell_type": "code",
   "execution_count": 5,
   "outputs": [],
   "source": [
    "# Criação de dados de treino e de dados de teste\n",
    "X = train_data.drop(labels = 'Loan Status', axis = 1).values\n",
    "y = train_data['Loan Status'].values\n",
    "\n",
    "x_train , x_test , y_train , y_test = train_test_split(X,y, test_size= 0.30, random_state =86)\n",
    "\n",
    "standard_scaler = StandardScaler()\n",
    "x_train = standard_scaler.fit_transform(x_train)\n",
    "x_test = standard_scaler.fit_transform(x_test)"
   ],
   "metadata": {
    "collapsed": false,
    "ExecuteTime": {
     "start_time": "2023-06-17T02:25:59.020896Z",
     "end_time": "2023-06-17T02:25:59.051896Z"
    }
   }
  },
  {
   "cell_type": "code",
   "execution_count": 6,
   "outputs": [
    {
     "name": "stdout",
     "output_type": "stream",
     "text": [
      "82.39245320294366\n",
      "81.15949688193636\n",
      "100.0\n",
      "89.60004667580733\n"
     ]
    }
   ],
   "source": [
    "# Modelo Regressão Logística\n",
    "log_reg = LogisticRegression(random_state=86)\n",
    "log_reg.fit(x_train, y_train)\n",
    "log_reg.score(x_train , y_train)\n",
    "y_pred = log_reg.predict(x_test)\n",
    "print(accuracy_score(y_test, y_pred)*100)\n",
    "print(precision_score(y_test, y_pred)*100)\n",
    "print(recall_score(y_test, y_pred)*100)\n",
    "print(f1_score(y_test, y_pred)*100)"
   ],
   "metadata": {
    "collapsed": false,
    "ExecuteTime": {
     "start_time": "2023-06-17T02:25:59.046896Z",
     "end_time": "2023-06-17T02:25:59.138896Z"
    }
   }
  },
  {
   "cell_type": "code",
   "execution_count": 7,
   "outputs": [
    {
     "name": "stdout",
     "output_type": "stream",
     "text": [
      "81.78989479922951\n",
      "81.87827797202797\n",
      "97.59067526209546\n",
      "89.04667122188884\n"
     ]
    }
   ],
   "source": [
    "# Modelo Random Forest\n",
    "rand_forest = RandomForestClassifier(max_depth=16,max_features=16)\n",
    "rand_forest.fit(x_train, y_train)\n",
    "rand_forest.score(x_train,y_train)\n",
    "y_pred = rand_forest.predict(x_test)\n",
    "print(accuracy_score(y_test, y_pred)*100)\n",
    "print(precision_score(y_test, y_pred)*100)\n",
    "print(recall_score(y_test, y_pred)*100)\n",
    "print(f1_score(y_test, y_pred)*100)"
   ],
   "metadata": {
    "collapsed": false,
    "ExecuteTime": {
     "start_time": "2023-06-17T02:25:59.138896Z",
     "end_time": "2023-06-17T02:26:25.130321Z"
    }
   }
  },
  {
   "cell_type": "code",
   "execution_count": 8,
   "outputs": [
    {
     "name": "stdout",
     "output_type": "stream",
     "text": [
      "79.79947646564924\n",
      "82.01761864165957\n",
      "93.97017646675782\n",
      "87.58800679776645\n"
     ]
    }
   ],
   "source": [
    "# Modelo KNN\n",
    "knn = KNeighborsClassifier()\n",
    "knn.fit(x_train, y_train)\n",
    "knn.score(x_train, y_train)\n",
    "y_pred = knn.predict(x_test)\n",
    "print(accuracy_score(y_test, y_pred)*100)\n",
    "print(precision_score(y_test, y_pred)*100)\n",
    "print(recall_score(y_test, y_pred)*100)\n",
    "print(f1_score(y_test, y_pred)*100)"
   ],
   "metadata": {
    "collapsed": false,
    "ExecuteTime": {
     "start_time": "2023-06-17T02:26:25.132321Z",
     "end_time": "2023-06-17T02:26:46.216957Z"
    }
   }
  },
  {
   "cell_type": "code",
   "execution_count": 9,
   "outputs": [
    {
     "name": "stdout",
     "output_type": "stream",
     "text": [
      "76.27796710623797\n",
      "82.46585455887782\n",
      "87.28267239695253\n",
      "84.80592198918097\n"
     ]
    }
   ],
   "source": [
    "# Modelo Decision Tree\n",
    "dec_tree = DecisionTreeClassifier(max_depth=16, max_features=16)\n",
    "dec_tree.fit(x_train, y_train)\n",
    "dec_tree.score(x_train, y_train)\n",
    "y_pred = dec_tree.predict(x_test)\n",
    "print(accuracy_score(y_test, y_pred)*100)\n",
    "print(precision_score(y_test, y_pred)*100)\n",
    "print(recall_score(y_test, y_pred)*100)\n",
    "print(f1_score(y_test, y_pred)*100)"
   ],
   "metadata": {
    "collapsed": false,
    "ExecuteTime": {
     "start_time": "2023-06-17T02:26:46.217958Z",
     "end_time": "2023-06-17T02:26:46.537958Z"
    }
   }
  },
  {
   "cell_type": "code",
   "execution_count": 11,
   "outputs": [
    {
     "name": "stdout",
     "output_type": "stream",
     "text": [
      "Feature: 0, Score: 2.63960\n",
      "Feature: 1, Score: 0.32272\n",
      "Feature: 2, Score: -1.91485\n",
      "Feature: 3, Score: 0.36547\n",
      "Feature: 4, Score: -0.02477\n",
      "Feature: 5, Score: -0.13529\n",
      "Feature: 6, Score: -0.04433\n",
      "Feature: 7, Score: -0.21107\n",
      "Feature: 8, Score: 0.03528\n",
      "Feature: 9, Score: -0.02383\n",
      "Feature: 10, Score: -0.01784\n",
      "Feature: 11, Score: -0.12560\n",
      "Feature: 12, Score: 1.71669\n",
      "Feature: 13, Score: 0.02309\n",
      "Feature: 14, Score: -0.01544\n"
     ]
    },
    {
     "data": {
      "text/plain": "<Figure size 640x480 with 1 Axes>",
      "image/png": "[encoded data removed]"
     },
     "metadata": {},
     "output_type": "display_data"
    }
   ],
   "source": [
    "importance_log_reg = log_reg.coef_[0]\n",
    "for i,v in enumerate(importance_log_reg):\n",
    "    print('Feature: %0d, Score: %.5f' % (i,v))\n",
    "\n",
    "mplt.bar([x for x in range(len(importance_log_reg))], importance_log_reg)\n",
    "mplt.show()"
   ],
   "metadata": {
    "collapsed": false,
    "ExecuteTime": {
     "start_time": "2023-06-17T02:26:47.728957Z",
     "end_time": "2023-06-17T02:26:47.852958Z"
    }
   }
  },
  {
   "cell_type": "code",
   "execution_count": 12,
   "outputs": [
    {
     "name": "stdout",
     "output_type": "stream",
     "text": [
      "Feature: 0, Score: 0.13222\n",
      "Feature: 1, Score: 0.00841\n",
      "Feature: 2, Score: 0.48973\n",
      "Feature: 3, Score: 0.05989\n",
      "Feature: 4, Score: 0.02040\n",
      "Feature: 5, Score: 0.00761\n",
      "Feature: 6, Score: 0.01541\n",
      "Feature: 7, Score: 0.06683\n",
      "Feature: 8, Score: 0.05579\n",
      "Feature: 9, Score: 0.02870\n",
      "Feature: 10, Score: 0.00428\n",
      "Feature: 11, Score: 0.05205\n",
      "Feature: 12, Score: 0.05342\n",
      "Feature: 13, Score: 0.00266\n",
      "Feature: 14, Score: 0.00260\n"
     ]
    },
    {
     "data": {
      "text/plain": "<Figure size 640x480 with 1 Axes>",
      "image/png": "[encoded data removed]"
     },
     "metadata": {},
     "output_type": "display_data"
    }
   ],
   "source": [
    "importance_dec_tree= dec_tree.feature_importances_\n",
    "for i,v in enumerate(importance_dec_tree):\n",
    "    print('Feature: %0d, Score: %.5f' % (i,v))\n",
    "\n",
    "mplt.bar([x for x in range(len(importance_dec_tree))], importance_dec_tree)\n",
    "mplt.show()"
   ],
   "metadata": {
    "collapsed": false,
    "ExecuteTime": {
     "start_time": "2023-06-17T02:26:47.854959Z",
     "end_time": "2023-06-17T02:26:48.050958Z"
    }
   }
  },
  {
   "cell_type": "code",
   "execution_count": 13,
   "outputs": [
    {
     "name": "stdout",
     "output_type": "stream",
     "text": [
      "Feature: 0, Score: 0.13342\n",
      "Feature: 1, Score: 0.01029\n",
      "Feature: 2, Score: 0.43988\n",
      "Feature: 3, Score: 0.07682\n",
      "Feature: 4, Score: 0.02492\n",
      "Feature: 5, Score: 0.01039\n",
      "Feature: 6, Score: 0.01714\n",
      "Feature: 7, Score: 0.06853\n",
      "Feature: 8, Score: 0.05865\n",
      "Feature: 9, Score: 0.03485\n",
      "Feature: 10, Score: 0.00450\n",
      "Feature: 11, Score: 0.05701\n",
      "Feature: 12, Score: 0.05802\n",
      "Feature: 13, Score: 0.00336\n",
      "Feature: 14, Score: 0.00221\n"
     ]
    },
    {
     "data": {
      "text/plain": "<Figure size 640x480 with 1 Axes>",
      "image/png": "[encoded data removed]"
     },
     "metadata": {},
     "output_type": "display_data"
    }
   ],
   "source": [
    "importance_rand_forest = rand_forest.feature_importances_\n",
    "for i,v in enumerate(importance_rand_forest):\n",
    "    print('Feature: %0d, Score: %.5f' % (i,v))\n",
    "\n",
    "mplt.bar([x for x in range(len(importance_rand_forest))], importance_rand_forest)\n",
    "mplt.show()"
   ],
   "metadata": {
    "collapsed": false,
    "ExecuteTime": {
     "start_time": "2023-06-17T02:26:48.002958Z",
     "end_time": "2023-06-17T02:26:48.118958Z"
    }
   }
  },
  {
   "cell_type": "code",
   "execution_count": 14,
   "outputs": [
    {
     "name": "stdout",
     "output_type": "stream",
     "text": [
      "Feature: 0, Score: 0.01314\n",
      "Feature: 1, Score: 0.02984\n",
      "Feature: 2, Score: 0.08932\n",
      "Feature: 3, Score: 0.02010\n",
      "Feature: 4, Score: 0.02802\n",
      "Feature: 5, Score: 0.02840\n",
      "Feature: 6, Score: 0.01297\n",
      "Feature: 7, Score: 0.02698\n",
      "Feature: 8, Score: 0.02844\n",
      "Feature: 9, Score: 0.02624\n",
      "Feature: 10, Score: 0.00665\n",
      "Feature: 11, Score: 0.01517\n",
      "Feature: 12, Score: 0.00010\n",
      "Feature: 13, Score: 0.00953\n",
      "Feature: 14, Score: 0.00234\n"
     ]
    },
    {
     "data": {
      "text/plain": "<Figure size 640x480 with 1 Axes>",
      "image/png": "[encoded data removed]"
     },
     "metadata": {},
     "output_type": "display_data"
    }
   ],
   "source": [
    "results = permutation_importance(knn, x_train, y_train, scoring='accuracy')\n",
    "importance_knn = results.importances_mean\n",
    "for i,v in enumerate(importance_knn):\n",
    "    print('Feature: %0d, Score: %.5f' % (i,v))\n",
    "\n",
    "mplt.bar([x for x in range(len(importance_knn))], importance_knn)\n",
    "mplt.show()"
   ],
   "metadata": {
    "collapsed": false,
    "ExecuteTime": {
     "start_time": "2023-06-17T02:26:48.118958Z",
     "end_time": "2023-06-17T02:54:18.140320Z"
    }
   }
  },
  {
   "cell_type": "code",
   "execution_count": 16,
   "outputs": [
    {
     "name": "stdout",
     "output_type": "stream",
     "text": [
      "Feature: 0, Score: 0.13328\n",
      "Feature: 1, Score: 0.10137\n",
      "Feature: 2, Score: 0.41637\n",
      "Feature: 3, Score: 0.03680\n",
      "Feature: 4, Score: 0.02548\n",
      "Feature: 5, Score: 0.03400\n",
      "Feature: 6, Score: 0.03312\n",
      "Feature: 7, Score: 0.03027\n",
      "Feature: 8, Score: 0.02607\n",
      "Feature: 9, Score: 0.02478\n",
      "Feature: 10, Score: 0.02699\n",
      "Feature: 11, Score: 0.02681\n",
      "Feature: 12, Score: 0.02813\n",
      "Feature: 13, Score: 0.02801\n",
      "Feature: 14, Score: 0.02851\n"
     ]
    },
    {
     "data": {
      "text/plain": "<Figure size 640x480 with 1 Axes>",
      "image/png": "[encoded data removed]"
     },
     "metadata": {},
     "output_type": "display_data"
    }
   ],
   "source": [
    "importance_xg = xg.feature_importances_\n",
    "for i,v in enumerate(importance_xg):\n",
    "    print('Feature: %0d, Score: %.5f' % (i,v))\n",
    "\n",
    "mplt.bar([x for x in range(len(importance_xg))], importance_xg)\n",
    "mplt.show()"
   ],
   "metadata": {
    "collapsed": false,
    "ExecuteTime": {
     "start_time": "2023-06-17T03:42:36.972221Z",
     "end_time": "2023-06-17T03:42:37.088237Z"
    }
   }
  },
  {
   "cell_type": "code",
   "execution_count": 44,
   "outputs": [
    {
     "name": "stdout",
     "output_type": "stream",
     "text": [
      "Tuned Hyperparameters : {'C': 0.001, 'penalty': 'l1', 'solver': 'liblinear'}\n",
      "Accuracy : 0.8231273514956834\n"
     ]
    }
   ],
   "source": [
    "from sklearn.model_selection import GridSearchCV\n",
    "import warnings\n",
    "warnings.filterwarnings('ignore')\n",
    "\n",
    "# parameter grid\n",
    "parameters = {\n",
    "    'penalty' : ['l1','l2'],\n",
    "    'C'       : np.logspace(-3,3,7),\n",
    "    'solver'  : ['newton-cg', 'lbfgs', 'liblinear'],\n",
    "}\n",
    "logreg = LogisticRegression()\n",
    "clf = GridSearchCV(logreg,                    # model\n",
    "                   param_grid = parameters,   # hyperparameters\n",
    "                   scoring='accuracy',        # metric for scoring\n",
    "                   cv=10)                     # number of folds\n",
    "clf.fit(x_train,y_train)\n",
    "print(\"Tuned Hyperparameters :\", clf.best_params_)\n",
    "print(\"Accuracy :\",clf.best_score_)"
   ],
   "metadata": {
    "collapsed": false,
    "ExecuteTime": {
     "start_time": "2023-06-17T05:25:03.776212Z",
     "end_time": "2023-06-17T05:25:43.436006Z"
    }
   }
  },
  {
   "cell_type": "code",
   "execution_count": 47,
   "outputs": [
    {
     "name": "stdout",
     "output_type": "stream",
     "text": [
      "Accuracy: 0.8239739220625277\n",
      "81.16378626922467\n",
      "100.0\n",
      "89.60266059863469\n"
     ]
    }
   ],
   "source": [
    "logreg = LogisticRegression(C = 0.001,\n",
    "                            penalty = 'l1',\n",
    "                            solver = 'liblinear')\n",
    "logreg.fit(x_train,y_train)\n",
    "pred = logreg.predict(x_test)\n",
    "print(\"Accuracy:\",logreg.score(x_test, y_test))\n",
    "print(precision_score(y_test, pred)*100)\n",
    "print(recall_score(y_test, pred)*100)\n",
    "print(f1_score(y_test, pred)*100)"
   ],
   "metadata": {
    "collapsed": false,
    "ExecuteTime": {
     "start_time": "2023-06-17T05:26:38.226197Z",
     "end_time": "2023-06-17T05:26:38.290197Z"
    }
   }
  },
  {
   "cell_type": "code",
   "execution_count": 37,
   "outputs": [
    {
     "data": {
      "text/plain": "{'criterion': 'gini',\n 'max_depth': 4,\n 'max_features': 'auto',\n 'n_estimators': 200}"
     },
     "execution_count": 37,
     "metadata": {},
     "output_type": "execute_result"
    }
   ],
   "source": [
    "param_grid = {\n",
    "    'n_estimators': [200, 500],\n",
    "    'max_features': ['auto', 'sqrt', 'log2'],\n",
    "    'max_depth' : [4,5,6,7,8],\n",
    "    'criterion' :['gini', 'entropy']\n",
    "}\n",
    "\n",
    "CV_rfc = GridSearchCV(estimator=rand_forest, param_grid=param_grid, cv= 5)\n",
    "CV_rfc.fit(x_train, y_train)\n",
    "CV_rfc.best_params_"
   ],
   "metadata": {
    "collapsed": false,
    "ExecuteTime": {
     "start_time": "2023-06-17T04:36:31.197045Z",
     "end_time": "2023-06-17T05:18:05.583457Z"
    }
   }
  },
  {
   "cell_type": "code",
   "execution_count": 41,
   "outputs": [
    {
     "name": "stdout",
     "output_type": "stream",
     "text": [
      "Accuracy for Random Forest on CV data:  0.8239739220625277\n"
     ]
    }
   ],
   "source": [
    "rand_forest=RandomForestClassifier(random_state=42, max_features='auto', n_estimators= 200, max_depth=4, criterion='gini')\n",
    "rand_forest.fit(x_train, y_train)\n",
    "y_pred=rand_forest.predict(x_test)\n",
    "print(\"Accuracy for Random Forest on CV data: \",accuracy_score(y_test,y_pred))\n",
    "print(precision_score(y_test, y_pred)*100)\n",
    "print(recall_score(y_test, y_pred)*100)\n",
    "print(f1_score(y_test, y_pred)*100)"
   ],
   "metadata": {
    "collapsed": false,
    "ExecuteTime": {
     "start_time": "2023-06-17T05:23:21.028136Z",
     "end_time": "2023-06-17T05:23:25.039740Z"
    }
   }
  },
  {
   "cell_type": "code",
   "execution_count": 48,
   "outputs": [
    {
     "name": "stdout",
     "output_type": "stream",
     "text": [
      "tuned hyperparameters :(best parameters)  {'n_neighbors': 29}\n",
      "accuracy : 82.11587291246406\n"
     ]
    }
   ],
   "source": [
    "k_range = list(range(1, 31))\n",
    "param_grid = dict(n_neighbors=k_range)\n",
    "grid_knn = GridSearchCV(knn, param_grid, cv=5, scoring='accuracy', return_train_score=False)\n",
    "grid_knn.fit(x_train,y_train)\n",
    "print(\"tuned hyperparameters :(best parameters) \",grid_knn.best_params_)\n",
    "print(\"accuracy :\",grid_knn.best_score_*100)"
   ],
   "metadata": {
    "collapsed": false,
    "ExecuteTime": {
     "start_time": "2023-06-17T05:33:20.823792Z",
     "end_time": "2023-06-17T05:40:41.414194Z"
    }
   }
  },
  {
   "cell_type": "code",
   "execution_count": 51,
   "outputs": [
    {
     "name": "stdout",
     "output_type": "stream",
     "text": [
      "Accuracy for our testing dataset with tuning is : 82.17%\n",
      "81.2403595553428\n",
      "99.45952985609169\n",
      "89.43146554247907\n"
     ]
    }
   ],
   "source": [
    "y_pred = grid_knn.predict(x_test)\n",
    "test_accuracy=accuracy_score(y_test,y_pred)*100\n",
    "print(\"Accuracy for our testing dataset with tuning is : {:.2f}%\".format(test_accuracy) )\n",
    "print(precision_score(y_test, y_pred)*100)\n",
    "print(recall_score(y_test, y_pred)*100)\n",
    "print(f1_score(y_test, y_pred)*100)"
   ],
   "metadata": {
    "collapsed": false,
    "ExecuteTime": {
     "start_time": "2023-06-17T05:45:09.314561Z",
     "end_time": "2023-06-17T05:45:18.646219Z"
    }
   }
  },
  {
   "cell_type": "code",
   "execution_count": 53,
   "outputs": [
    {
     "ename": "TypeError",
     "evalue": "estimator should be an estimator implementing 'fit' method, <module 'sklearn.svm' from 'C:\\\\Users\\\\Pedro\\\\AppData\\\\Local\\\\Programs\\\\Python\\\\Python310\\\\lib\\\\site-packages\\\\sklearn\\\\svm\\\\__init__.py'> was passed",
     "output_type": "error",
     "traceback": [
      "\u001B[1;31m---------------------------------------------------------------------------\u001B[0m",
      "\u001B[1;31mTypeError\u001B[0m                                 Traceback (most recent call last)",
      "Cell \u001B[1;32mIn[53], line 9\u001B[0m\n\u001B[0;32m      6\u001B[0m grid \u001B[38;5;241m=\u001B[39m GridSearchCV(svm, param_grid, refit \u001B[38;5;241m=\u001B[39m \u001B[38;5;28;01mTrue\u001B[39;00m, verbose \u001B[38;5;241m=\u001B[39m\u001B[38;5;241m0\u001B[39m,cv\u001B[38;5;241m=\u001B[39m\u001B[38;5;241m5\u001B[39m)\n\u001B[0;32m      8\u001B[0m \u001B[38;5;66;03m# fitting the model for grid search\u001B[39;00m\n\u001B[1;32m----> 9\u001B[0m \u001B[43mgrid\u001B[49m\u001B[38;5;241;43m.\u001B[39;49m\u001B[43mfit\u001B[49m\u001B[43m(\u001B[49m\u001B[43mx_train\u001B[49m\u001B[43m,\u001B[49m\u001B[43m \u001B[49m\u001B[43my_train\u001B[49m\u001B[43m)\u001B[49m\n\u001B[0;32m     11\u001B[0m \u001B[38;5;28mprint\u001B[39m(\u001B[38;5;124m\"\u001B[39m\u001B[38;5;124mtuned hyperparameters :(best parameters) \u001B[39m\u001B[38;5;124m\"\u001B[39m,grid\u001B[38;5;241m.\u001B[39mbest_params_)\n\u001B[0;32m     13\u001B[0m \u001B[38;5;28mprint\u001B[39m(\u001B[38;5;124m\"\u001B[39m\u001B[38;5;124maccuracy :\u001B[39m\u001B[38;5;124m\"\u001B[39m,grid\u001B[38;5;241m.\u001B[39mbest_score_\u001B[38;5;241m*\u001B[39m\u001B[38;5;241m100\u001B[39m)\n",
      "File \u001B[1;32m~\\AppData\\Local\\Programs\\Python\\Python310\\lib\\site-packages\\sklearn\\model_selection\\_search.py:776\u001B[0m, in \u001B[0;36mBaseSearchCV.fit\u001B[1;34m(self, X, y, groups, **fit_params)\u001B[0m\n\u001B[0;32m    774\u001B[0m     scorers \u001B[38;5;241m=\u001B[39m \u001B[38;5;28mself\u001B[39m\u001B[38;5;241m.\u001B[39mscoring\n\u001B[0;32m    775\u001B[0m \u001B[38;5;28;01melif\u001B[39;00m \u001B[38;5;28mself\u001B[39m\u001B[38;5;241m.\u001B[39mscoring \u001B[38;5;129;01mis\u001B[39;00m \u001B[38;5;28;01mNone\u001B[39;00m \u001B[38;5;129;01mor\u001B[39;00m \u001B[38;5;28misinstance\u001B[39m(\u001B[38;5;28mself\u001B[39m\u001B[38;5;241m.\u001B[39mscoring, \u001B[38;5;28mstr\u001B[39m):\n\u001B[1;32m--> 776\u001B[0m     scorers \u001B[38;5;241m=\u001B[39m \u001B[43mcheck_scoring\u001B[49m\u001B[43m(\u001B[49m\u001B[38;5;28;43mself\u001B[39;49m\u001B[38;5;241;43m.\u001B[39;49m\u001B[43mestimator\u001B[49m\u001B[43m,\u001B[49m\u001B[43m \u001B[49m\u001B[38;5;28;43mself\u001B[39;49m\u001B[38;5;241;43m.\u001B[39;49m\u001B[43mscoring\u001B[49m\u001B[43m)\u001B[49m\n\u001B[0;32m    777\u001B[0m \u001B[38;5;28;01melse\u001B[39;00m:\n\u001B[0;32m    778\u001B[0m     scorers \u001B[38;5;241m=\u001B[39m _check_multimetric_scoring(\u001B[38;5;28mself\u001B[39m\u001B[38;5;241m.\u001B[39mestimator, \u001B[38;5;28mself\u001B[39m\u001B[38;5;241m.\u001B[39mscoring)\n",
      "File \u001B[1;32m~\\AppData\\Local\\Programs\\Python\\Python310\\lib\\site-packages\\sklearn\\metrics\\_scorer.py:474\u001B[0m, in \u001B[0;36mcheck_scoring\u001B[1;34m(estimator, scoring, allow_none)\u001B[0m\n\u001B[0;32m    448\u001B[0m \u001B[38;5;250m\u001B[39m\u001B[38;5;124;03m\"\"\"Determine scorer from user options.\u001B[39;00m\n\u001B[0;32m    449\u001B[0m \n\u001B[0;32m    450\u001B[0m \u001B[38;5;124;03mA TypeError will be thrown if the estimator cannot be scored.\u001B[39;00m\n\u001B[1;32m   (...)\u001B[0m\n\u001B[0;32m    471\u001B[0m \u001B[38;5;124;03m    ``scorer(estimator, X, y)``.\u001B[39;00m\n\u001B[0;32m    472\u001B[0m \u001B[38;5;124;03m\"\"\"\u001B[39;00m\n\u001B[0;32m    473\u001B[0m \u001B[38;5;28;01mif\u001B[39;00m \u001B[38;5;129;01mnot\u001B[39;00m \u001B[38;5;28mhasattr\u001B[39m(estimator, \u001B[38;5;124m\"\u001B[39m\u001B[38;5;124mfit\u001B[39m\u001B[38;5;124m\"\u001B[39m):\n\u001B[1;32m--> 474\u001B[0m     \u001B[38;5;28;01mraise\u001B[39;00m \u001B[38;5;167;01mTypeError\u001B[39;00m(\n\u001B[0;32m    475\u001B[0m         \u001B[38;5;124m\"\u001B[39m\u001B[38;5;124mestimator should be an estimator implementing \u001B[39m\u001B[38;5;124m'\u001B[39m\u001B[38;5;124mfit\u001B[39m\u001B[38;5;124m'\u001B[39m\u001B[38;5;124m method, \u001B[39m\u001B[38;5;132;01m%r\u001B[39;00m\u001B[38;5;124m was passed\u001B[39m\u001B[38;5;124m\"\u001B[39m\n\u001B[0;32m    476\u001B[0m         \u001B[38;5;241m%\u001B[39m estimator\n\u001B[0;32m    477\u001B[0m     )\n\u001B[0;32m    478\u001B[0m \u001B[38;5;28;01mif\u001B[39;00m \u001B[38;5;28misinstance\u001B[39m(scoring, \u001B[38;5;28mstr\u001B[39m):\n\u001B[0;32m    479\u001B[0m     \u001B[38;5;28;01mreturn\u001B[39;00m get_scorer(scoring)\n",
      "\u001B[1;31mTypeError\u001B[0m: estimator should be an estimator implementing 'fit' method, <module 'sklearn.svm' from 'C:\\\\Users\\\\Pedro\\\\AppData\\\\Local\\\\Programs\\\\Python\\\\Python310\\\\lib\\\\site-packages\\\\sklearn\\\\svm\\\\__init__.py'> was passed"
     ]
    }
   ],
   "source": [
    "# defining parameter range\n",
    "param_grid = {'C': [0.1, 1, 10, 100, 1000],\n",
    "              'gamma': [1, 0.1, 0.01, 0.001, 0.0001],\n",
    "              'kernel': ['rbf']}\n",
    "\n",
    "grid = GridSearchCV(svm, param_grid, refit = True, verbose =0,cv=5)\n",
    "\n",
    "# fitting the model for grid search\n",
    "grid.fit(x_train, y_train)\n",
    "\n",
    "print(\"tuned hyperparameters :(best parameters) \",grid.best_params_)\n",
    "\n",
    "print(\"accuracy :\",grid.best_score_*100)"
   ],
   "metadata": {
    "collapsed": false
   }
  },
  {
   "cell_type": "code",
   "execution_count": null,
   "outputs": [],
   "source": [],
   "metadata": {
    "collapsed": false
   }
  }
 ],
 "metadata": {
  "kernelspec": {
   "display_name": "Python 3",
   "language": "python",
   "name": "python3"
  },
  "language_info": {
   "codemirror_mode": {
    "name": "ipython",
    "version": 2
   },
   "file_extension": ".py",
   "mimetype": "text/x-python",
   "name": "python",
   "nbconvert_exporter": "python",
   "pygments_lexer": "ipython2",
   "version": "2.7.6"
  }
 },
 "nbformat": 4,
 "nbformat_minor": 0
}
